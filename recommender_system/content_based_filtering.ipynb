{
  "nbformat": 4,
  "nbformat_minor": 0,
  "metadata": {
    "colab": {
      "provenance": [],
      "gpuType": "T4"
    },
    "kernelspec": {
      "name": "python3",
      "display_name": "Python 3"
    },
    "language_info": {
      "name": "python"
    },
    "accelerator": "GPU"
  },
  "cells": [
    {
      "cell_type": "markdown",
      "source": [],
      "metadata": {
        "id": "nYgvDKnu1BxE"
      }
    },
    {
      "cell_type": "markdown",
      "source": [
        "1) Setup colab runtime environment"
      ],
      "metadata": {
        "id": "EbbmkxDr1ERs"
      }
    },
    {
      "cell_type": "markdown",
      "source": [
        "1.1. Download Dataset"
      ],
      "metadata": {
        "id": "j18LhXmN1aTX"
      }
    },
    {
      "cell_type": "code",
      "source": [
        "!git clone https://github.com/balarcode/deep-learning.git"
      ],
      "metadata": {
        "colab": {
          "base_uri": "https://localhost:8080/"
        },
        "id": "PLG0bs101J-F",
        "outputId": "27b63311-6c28-4bde-a656-21fc9d4f3cbc"
      },
      "execution_count": 1,
      "outputs": [
        {
          "output_type": "stream",
          "name": "stdout",
          "text": [
            "Cloning into 'deep-learning'...\n",
            "remote: Enumerating objects: 1064, done.\u001b[K\n",
            "remote: Counting objects: 100% (111/111), done.\u001b[K\n",
            "remote: Compressing objects: 100% (99/99), done.\u001b[K\n",
            "remote: Total 1064 (delta 62), reused 19 (delta 11), pack-reused 953 (from 1)\u001b[K\n",
            "Receiving objects: 100% (1064/1064), 26.45 MiB | 13.62 MiB/s, done.\n",
            "Resolving deltas: 100% (128/128), done.\n"
          ]
        }
      ]
    },
    {
      "cell_type": "markdown",
      "source": [
        "1.2. Common Imports"
      ],
      "metadata": {
        "id": "eu5WWLUF1gjK"
      }
    },
    {
      "cell_type": "code",
      "source": [
        "import numpy as np\n",
        "import numpy.ma as ma # numpy.ma supports data arrays with masks\n",
        "import pandas as pd\n",
        "import tensorflow as tf\n",
        "import pickle # Python object serialization\n",
        "import tabulate # To print tables\n",
        "import csv\n",
        "\n",
        "from tensorflow import keras\n",
        "from sklearn.preprocessing import StandardScaler, MinMaxScaler # Helpful routines from scikit-learn\n",
        "from sklearn.model_selection import train_test_split # To split and shuffle the dataset\n",
        "from collections import defaultdict\n",
        "from IPython.core.display import display, HTML # To render and display HTML code in the output cell\n",
        "\n",
        "pd.set_option(\"display.precision\", 1) # Configure pandas to display numerical values with a precision of 1 decimal place"
      ],
      "metadata": {
        "id": "rVFjMSqk1hf9"
      },
      "execution_count": 2,
      "outputs": []
    },
    {
      "cell_type": "markdown",
      "source": [
        "2) Setup Configuration"
      ],
      "metadata": {
        "id": "4lNcNRmb3mSR"
      }
    },
    {
      "cell_type": "code",
      "source": [
        "# Neural network settings\n",
        "ACTIVATION = 'relu'\n",
        "FIRST_LAYER_UNITS = 256\n",
        "SECOND_LAYER_UNITS = 128\n",
        "NUM_OUTPUTS = 32\n",
        "LEARNING_RATE = 0.01\n",
        "EPOCHS = 40\n",
        "\n",
        "# Input dataset (user, item and target)\n",
        "user_train = np.genfromtxt('/content/deep-learning/recommender_system/data/content_user_train.csv', delimiter=',')\n",
        "item_train = np.genfromtxt('/content/deep-learning/recommender_system/data/content_item_train.csv', delimiter=',')\n",
        "y_train    = np.genfromtxt('/content/deep-learning/recommender_system/data/content_y_train.csv', delimiter=',')\n",
        "\n",
        "# Given two feature vectors (user features and item features), the task of the recommender\n",
        "# system is to predict whether or not an item ‘i’ is a good match to the user ‘j’.\n",
        "# This is achieved by content-based filtering algorithm.\n",
        "# In this example, movies are considered as items.\n",
        "\n",
        "with open('/content/deep-learning/recommender_system/data/content_user_train_header.txt', newline='') as f:\n",
        "  user_features = list(csv.reader(f))[0]\n",
        "\n",
        "with open('/content/deep-learning/recommender_system/data/content_item_train_header.txt', newline='') as f:\n",
        "  item_features = list(csv.reader(f))[0]\n",
        "\n",
        "item_vecs = np.genfromtxt('/content/deep-learning/recommender_system/data/content_item_vecs.csv', delimiter=',')\n",
        "\n",
        "movie_dict = defaultdict(dict)\n",
        "count = 0\n",
        "with open('/content/deep-learning/recommender_system/data/content_movie_list.csv', newline='') as csvfile:\n",
        "  reader = csv.reader(csvfile, delimiter=',', quotechar='\"')\n",
        "  for line in reader:\n",
        "    if (count == 0):\n",
        "      count += 1 # Skip the header\n",
        "    else:\n",
        "      count += 1\n",
        "      movie_id = int(line[0])\n",
        "      movie_dict[movie_id][\"title\"]  = line[1]\n",
        "      movie_dict[movie_id][\"genres\"] = line[2]\n",
        "\n",
        "with open('/content/deep-learning/recommender_system/data/content_user_to_genre.pickle', 'rb') as f:\n",
        "  user_to_genre = pickle.load(f)\n",
        "\n",
        "num_user_features = (user_train.shape[1] - 3)  # remove user id, rating count and average rating\n",
        "num_item_features = (item_train.shape[1] - 1)  # remove movie id\n",
        "print(f\"Number of user features: {num_user_features}\")\n",
        "print(f\"Number of item features: {num_item_features}\")\n",
        "\n",
        "print(f\"Number of input user   vectors: {len(user_train)}\")\n",
        "print(f\"Number of input item   vectors: {len(item_train)}\")\n",
        "print(f\"Number of input target vectors: {len(y_train)}\")"
      ],
      "metadata": {
        "colab": {
          "base_uri": "https://localhost:8080/"
        },
        "id": "mChfgyki3nMy",
        "outputId": "4e0b32f2-7d4b-404b-cd08-01b24691191b"
      },
      "execution_count": 3,
      "outputs": [
        {
          "output_type": "stream",
          "name": "stdout",
          "text": [
            "Number of user features: 14\n",
            "Number of item features: 16\n",
            "Number of input user   vectors: 50884\n",
            "Number of input item   vectors: 50884\n",
            "Number of input target vectors: 50884\n"
          ]
        },
        {
          "output_type": "stream",
          "name": "stderr",
          "text": [
            "<ipython-input-3-b267fc1c2b8f>:41: DeprecationWarning: numpy.core.numeric is deprecated and has been renamed to numpy._core.numeric. The numpy._core namespace contains private NumPy internals and its use is discouraged, as NumPy internals can change without warning in any release. In practice, most real-world usage of numpy.core is to access functionality in the public NumPy API. If that is the case, use the public NumPy API. If not, you are using NumPy internals. If you would still like to access an internal attribute, use numpy._core.numeric._frombuffer.\n",
            "  user_to_genre = pickle.load(f)\n"
          ]
        }
      ]
    },
    {
      "cell_type": "markdown",
      "source": [
        "3) Create Custom Dataset"
      ],
      "metadata": {
        "id": "T9TbmIwCC46i"
      }
    },
    {
      "cell_type": "code",
      "source": [
        "# Scale input data as part of feature scaling step\n",
        "item_train_unscaled = item_train\n",
        "user_train_unscaled = user_train\n",
        "y_train_unscaled    = y_train\n",
        "\n",
        "# Standard scaler performs standardization or Z-score normalization to remove mean and keep unity variance\n",
        "scalerItem = StandardScaler()\n",
        "scalerItem.fit(item_train)\n",
        "item_train = scalerItem.transform(item_train)\n",
        "\n",
        "scalerUser = StandardScaler()\n",
        "scalerUser.fit(user_train)\n",
        "user_train = scalerUser.transform(user_train)\n",
        "\n",
        "# MinMaxScaler transforms data by scaling each feature to a specified range between -1 and 1\n",
        "scalerTarget = MinMaxScaler((-1, 1))\n",
        "scalerTarget.fit(y_train.reshape(-1, 1))\n",
        "y_train = scalerTarget.transform(y_train.reshape(-1, 1))\n",
        "\n",
        "# NOTE: inverse_transform() adds the mean back to the normalized dataset.\n",
        "print(np.allclose(item_train_unscaled, scalerItem.inverse_transform(item_train)))\n",
        "print(np.allclose(user_train_unscaled, scalerUser.inverse_transform(user_train)))"
      ],
      "metadata": {
        "colab": {
          "base_uri": "https://localhost:8080/"
        },
        "id": "M8b-aXaYDBgB",
        "outputId": "5b1ca059-e046-4901-c016-be10489bd59e"
      },
      "execution_count": 4,
      "outputs": [
        {
          "output_type": "stream",
          "name": "stdout",
          "text": [
            "True\n",
            "True\n"
          ]
        }
      ]
    },
    {
      "cell_type": "markdown",
      "source": [
        "4) Create Training and Validation (Test) Sets"
      ],
      "metadata": {
        "id": "5uAmBSH5Ec7_"
      }
    },
    {
      "cell_type": "code",
      "source": [
        "item_train, item_test = train_test_split(item_train, train_size=0.80, shuffle=True, random_state=1)\n",
        "user_train, user_test = train_test_split(user_train, train_size=0.80, shuffle=True, random_state=1)\n",
        "y_train,    y_test    = train_test_split(y_train,    train_size=0.80, shuffle=True, random_state=1)\n",
        "\n",
        "print(f\"Movie/Item training set shape: {item_train.shape}\")\n",
        "print(f\"Movie/Item validation set shape: {item_test.shape}\")"
      ],
      "metadata": {
        "colab": {
          "base_uri": "https://localhost:8080/"
        },
        "id": "tcXCCrfrEofX",
        "outputId": "c9c22109-4a98-4171-9738-31f9464478de"
      },
      "execution_count": 5,
      "outputs": [
        {
          "output_type": "stream",
          "name": "stdout",
          "text": [
            "Movie/Item training set shape: (40707, 17)\n",
            "Movie/Item validation set shape: (10177, 17)\n"
          ]
        }
      ]
    },
    {
      "cell_type": "markdown",
      "source": [
        "5) Create Keras Sequential Model"
      ],
      "metadata": {
        "id": "5bQ8OibTMeU3"
      }
    },
    {
      "cell_type": "code",
      "source": [
        "tf.random.set_seed(1)\n",
        "user_NN = tf.keras.models.Sequential([\n",
        "    tf.keras.layers.Dense(units=FIRST_LAYER_UNITS,  activation=ACTIVATION, name='l1'),\n",
        "    tf.keras.layers.Dense(units=SECOND_LAYER_UNITS, activation=ACTIVATION, name='l2'),\n",
        "    tf.keras.layers.Dense(units=NUM_OUTPUTS, name='l3')\n",
        "])\n",
        "\n",
        "item_NN = tf.keras.models.Sequential([\n",
        "    tf.keras.layers.Dense(units=FIRST_LAYER_UNITS, activation=ACTIVATION, name='l1'),\n",
        "    tf.keras.layers.Dense(units=SECOND_LAYER_UNITS, activation=ACTIVATION, name='l2'),\n",
        "    tf.keras.layers.Dense(units=NUM_OUTPUTS, name='l3')\n",
        "])\n",
        "\n",
        "# Create feature vector of the user in vu\n",
        "input_user = tf.keras.layers.Input(shape=(num_user_features, ))\n",
        "vu = user_NN(input_user)\n",
        "vu = tf.keras.layers.Lambda(lambda x: tf.linalg.l2_normalize(x, axis=1))(vu)\n",
        "\n",
        "# Create feature vector of items (i.e. movies) in vm\n",
        "input_item = tf.keras.layers.Input(shape=(num_item_features, ))\n",
        "vm = item_NN(input_item)\n",
        "vm = tf.keras.layers.Lambda(lambda x: tf.linalg.l2_normalize(x, axis=1))(vm)\n",
        "\n",
        "# Compute the dot product of the two vectors vu and vm which forms\n",
        "# the model for content-based filtering for the recommender system\n",
        "output = tf.keras.layers.Dot(axes=1)([vu, vm])\n",
        "\n",
        "# Specify the inputs and output of the neural network\n",
        "model = tf.keras.Model([input_user, input_item], output)\n",
        "\n",
        "model.summary()\n",
        "\n",
        "cost_fn = tf.keras.losses.MeanSquaredError() # Mean squared error loss for the cost function\n",
        "opt = keras.optimizers.Adam(learning_rate=LEARNING_RATE) # Adam optimizer\n",
        "model.compile(optimizer=opt, loss=cost_fn)"
      ],
      "metadata": {
        "colab": {
          "base_uri": "https://localhost:8080/",
          "height": 433
        },
        "id": "HnRsKMogO3Ew",
        "outputId": "aa94f048-2648-41f2-ec0e-b17d362c8f20"
      },
      "execution_count": 6,
      "outputs": [
        {
          "output_type": "display_data",
          "data": {
            "text/plain": [
              "\u001b[1mModel: \"functional_2\"\u001b[0m\n"
            ],
            "text/html": [
              "<pre style=\"white-space:pre;overflow-x:auto;line-height:normal;font-family:Menlo,'DejaVu Sans Mono',consolas,'Courier New',monospace\"><span style=\"font-weight: bold\">Model: \"functional_2\"</span>\n",
              "</pre>\n"
            ]
          },
          "metadata": {}
        },
        {
          "output_type": "display_data",
          "data": {
            "text/plain": [
              "┏━━━━━━━━━━━━━━━━━━━━━┳━━━━━━━━━━━━━━━━━━━┳━━━━━━━━━━━━┳━━━━━━━━━━━━━━━━━━━┓\n",
              "┃\u001b[1m \u001b[0m\u001b[1mLayer (type)       \u001b[0m\u001b[1m \u001b[0m┃\u001b[1m \u001b[0m\u001b[1mOutput Shape     \u001b[0m\u001b[1m \u001b[0m┃\u001b[1m \u001b[0m\u001b[1m   Param #\u001b[0m\u001b[1m \u001b[0m┃\u001b[1m \u001b[0m\u001b[1mConnected to     \u001b[0m\u001b[1m \u001b[0m┃\n",
              "┡━━━━━━━━━━━━━━━━━━━━━╇━━━━━━━━━━━━━━━━━━━╇━━━━━━━━━━━━╇━━━━━━━━━━━━━━━━━━━┩\n",
              "│ input_layer         │ (\u001b[38;5;45mNone\u001b[0m, \u001b[38;5;34m14\u001b[0m)        │          \u001b[38;5;34m0\u001b[0m │ -                 │\n",
              "│ (\u001b[38;5;33mInputLayer\u001b[0m)        │                   │            │                   │\n",
              "├─────────────────────┼───────────────────┼────────────┼───────────────────┤\n",
              "│ input_layer_2       │ (\u001b[38;5;45mNone\u001b[0m, \u001b[38;5;34m16\u001b[0m)        │          \u001b[38;5;34m0\u001b[0m │ -                 │\n",
              "│ (\u001b[38;5;33mInputLayer\u001b[0m)        │                   │            │                   │\n",
              "├─────────────────────┼───────────────────┼────────────┼───────────────────┤\n",
              "│ sequential          │ (\u001b[38;5;45mNone\u001b[0m, \u001b[38;5;34m32\u001b[0m)        │     \u001b[38;5;34m40,864\u001b[0m │ input_layer[\u001b[38;5;34m0\u001b[0m][\u001b[38;5;34m0\u001b[0m] │\n",
              "│ (\u001b[38;5;33mSequential\u001b[0m)        │                   │            │                   │\n",
              "├─────────────────────┼───────────────────┼────────────┼───────────────────┤\n",
              "│ sequential_1        │ (\u001b[38;5;45mNone\u001b[0m, \u001b[38;5;34m32\u001b[0m)        │     \u001b[38;5;34m41,376\u001b[0m │ input_layer_2[\u001b[38;5;34m0\u001b[0m]… │\n",
              "│ (\u001b[38;5;33mSequential\u001b[0m)        │                   │            │                   │\n",
              "├─────────────────────┼───────────────────┼────────────┼───────────────────┤\n",
              "│ lambda (\u001b[38;5;33mLambda\u001b[0m)     │ (\u001b[38;5;45mNone\u001b[0m, \u001b[38;5;34m32\u001b[0m)        │          \u001b[38;5;34m0\u001b[0m │ sequential[\u001b[38;5;34m0\u001b[0m][\u001b[38;5;34m0\u001b[0m]  │\n",
              "├─────────────────────┼───────────────────┼────────────┼───────────────────┤\n",
              "│ lambda_1 (\u001b[38;5;33mLambda\u001b[0m)   │ (\u001b[38;5;45mNone\u001b[0m, \u001b[38;5;34m32\u001b[0m)        │          \u001b[38;5;34m0\u001b[0m │ sequential_1[\u001b[38;5;34m0\u001b[0m][\u001b[38;5;34m…\u001b[0m │\n",
              "├─────────────────────┼───────────────────┼────────────┼───────────────────┤\n",
              "│ dot (\u001b[38;5;33mDot\u001b[0m)           │ (\u001b[38;5;45mNone\u001b[0m, \u001b[38;5;34m1\u001b[0m)         │          \u001b[38;5;34m0\u001b[0m │ lambda[\u001b[38;5;34m0\u001b[0m][\u001b[38;5;34m0\u001b[0m],     │\n",
              "│                     │                   │            │ lambda_1[\u001b[38;5;34m0\u001b[0m][\u001b[38;5;34m0\u001b[0m]    │\n",
              "└─────────────────────┴───────────────────┴────────────┴───────────────────┘\n"
            ],
            "text/html": [
              "<pre style=\"white-space:pre;overflow-x:auto;line-height:normal;font-family:Menlo,'DejaVu Sans Mono',consolas,'Courier New',monospace\">┏━━━━━━━━━━━━━━━━━━━━━┳━━━━━━━━━━━━━━━━━━━┳━━━━━━━━━━━━┳━━━━━━━━━━━━━━━━━━━┓\n",
              "┃<span style=\"font-weight: bold\"> Layer (type)        </span>┃<span style=\"font-weight: bold\"> Output Shape      </span>┃<span style=\"font-weight: bold\">    Param # </span>┃<span style=\"font-weight: bold\"> Connected to      </span>┃\n",
              "┡━━━━━━━━━━━━━━━━━━━━━╇━━━━━━━━━━━━━━━━━━━╇━━━━━━━━━━━━╇━━━━━━━━━━━━━━━━━━━┩\n",
              "│ input_layer         │ (<span style=\"color: #00d7ff; text-decoration-color: #00d7ff\">None</span>, <span style=\"color: #00af00; text-decoration-color: #00af00\">14</span>)        │          <span style=\"color: #00af00; text-decoration-color: #00af00\">0</span> │ -                 │\n",
              "│ (<span style=\"color: #0087ff; text-decoration-color: #0087ff\">InputLayer</span>)        │                   │            │                   │\n",
              "├─────────────────────┼───────────────────┼────────────┼───────────────────┤\n",
              "│ input_layer_2       │ (<span style=\"color: #00d7ff; text-decoration-color: #00d7ff\">None</span>, <span style=\"color: #00af00; text-decoration-color: #00af00\">16</span>)        │          <span style=\"color: #00af00; text-decoration-color: #00af00\">0</span> │ -                 │\n",
              "│ (<span style=\"color: #0087ff; text-decoration-color: #0087ff\">InputLayer</span>)        │                   │            │                   │\n",
              "├─────────────────────┼───────────────────┼────────────┼───────────────────┤\n",
              "│ sequential          │ (<span style=\"color: #00d7ff; text-decoration-color: #00d7ff\">None</span>, <span style=\"color: #00af00; text-decoration-color: #00af00\">32</span>)        │     <span style=\"color: #00af00; text-decoration-color: #00af00\">40,864</span> │ input_layer[<span style=\"color: #00af00; text-decoration-color: #00af00\">0</span>][<span style=\"color: #00af00; text-decoration-color: #00af00\">0</span>] │\n",
              "│ (<span style=\"color: #0087ff; text-decoration-color: #0087ff\">Sequential</span>)        │                   │            │                   │\n",
              "├─────────────────────┼───────────────────┼────────────┼───────────────────┤\n",
              "│ sequential_1        │ (<span style=\"color: #00d7ff; text-decoration-color: #00d7ff\">None</span>, <span style=\"color: #00af00; text-decoration-color: #00af00\">32</span>)        │     <span style=\"color: #00af00; text-decoration-color: #00af00\">41,376</span> │ input_layer_2[<span style=\"color: #00af00; text-decoration-color: #00af00\">0</span>]… │\n",
              "│ (<span style=\"color: #0087ff; text-decoration-color: #0087ff\">Sequential</span>)        │                   │            │                   │\n",
              "├─────────────────────┼───────────────────┼────────────┼───────────────────┤\n",
              "│ lambda (<span style=\"color: #0087ff; text-decoration-color: #0087ff\">Lambda</span>)     │ (<span style=\"color: #00d7ff; text-decoration-color: #00d7ff\">None</span>, <span style=\"color: #00af00; text-decoration-color: #00af00\">32</span>)        │          <span style=\"color: #00af00; text-decoration-color: #00af00\">0</span> │ sequential[<span style=\"color: #00af00; text-decoration-color: #00af00\">0</span>][<span style=\"color: #00af00; text-decoration-color: #00af00\">0</span>]  │\n",
              "├─────────────────────┼───────────────────┼────────────┼───────────────────┤\n",
              "│ lambda_1 (<span style=\"color: #0087ff; text-decoration-color: #0087ff\">Lambda</span>)   │ (<span style=\"color: #00d7ff; text-decoration-color: #00d7ff\">None</span>, <span style=\"color: #00af00; text-decoration-color: #00af00\">32</span>)        │          <span style=\"color: #00af00; text-decoration-color: #00af00\">0</span> │ sequential_1[<span style=\"color: #00af00; text-decoration-color: #00af00\">0</span>][<span style=\"color: #00af00; text-decoration-color: #00af00\">…</span> │\n",
              "├─────────────────────┼───────────────────┼────────────┼───────────────────┤\n",
              "│ dot (<span style=\"color: #0087ff; text-decoration-color: #0087ff\">Dot</span>)           │ (<span style=\"color: #00d7ff; text-decoration-color: #00d7ff\">None</span>, <span style=\"color: #00af00; text-decoration-color: #00af00\">1</span>)         │          <span style=\"color: #00af00; text-decoration-color: #00af00\">0</span> │ lambda[<span style=\"color: #00af00; text-decoration-color: #00af00\">0</span>][<span style=\"color: #00af00; text-decoration-color: #00af00\">0</span>],     │\n",
              "│                     │                   │            │ lambda_1[<span style=\"color: #00af00; text-decoration-color: #00af00\">0</span>][<span style=\"color: #00af00; text-decoration-color: #00af00\">0</span>]    │\n",
              "└─────────────────────┴───────────────────┴────────────┴───────────────────┘\n",
              "</pre>\n"
            ]
          },
          "metadata": {}
        },
        {
          "output_type": "display_data",
          "data": {
            "text/plain": [
              "\u001b[1m Total params: \u001b[0m\u001b[38;5;34m82,240\u001b[0m (321.25 KB)\n"
            ],
            "text/html": [
              "<pre style=\"white-space:pre;overflow-x:auto;line-height:normal;font-family:Menlo,'DejaVu Sans Mono',consolas,'Courier New',monospace\"><span style=\"font-weight: bold\"> Total params: </span><span style=\"color: #00af00; text-decoration-color: #00af00\">82,240</span> (321.25 KB)\n",
              "</pre>\n"
            ]
          },
          "metadata": {}
        },
        {
          "output_type": "display_data",
          "data": {
            "text/plain": [
              "\u001b[1m Trainable params: \u001b[0m\u001b[38;5;34m82,240\u001b[0m (321.25 KB)\n"
            ],
            "text/html": [
              "<pre style=\"white-space:pre;overflow-x:auto;line-height:normal;font-family:Menlo,'DejaVu Sans Mono',consolas,'Courier New',monospace\"><span style=\"font-weight: bold\"> Trainable params: </span><span style=\"color: #00af00; text-decoration-color: #00af00\">82,240</span> (321.25 KB)\n",
              "</pre>\n"
            ]
          },
          "metadata": {}
        },
        {
          "output_type": "display_data",
          "data": {
            "text/plain": [
              "\u001b[1m Non-trainable params: \u001b[0m\u001b[38;5;34m0\u001b[0m (0.00 B)\n"
            ],
            "text/html": [
              "<pre style=\"white-space:pre;overflow-x:auto;line-height:normal;font-family:Menlo,'DejaVu Sans Mono',consolas,'Courier New',monospace\"><span style=\"font-weight: bold\"> Non-trainable params: </span><span style=\"color: #00af00; text-decoration-color: #00af00\">0</span> (0.00 B)\n",
              "</pre>\n"
            ]
          },
          "metadata": {}
        }
      ]
    },
    {
      "cell_type": "markdown",
      "source": [
        "6) Train the Model"
      ],
      "metadata": {
        "id": "vsPoGfaAa4Kc"
      }
    },
    {
      "cell_type": "code",
      "source": [
        "# Train the model on the training set\n",
        "tf.random.set_seed(1)\n",
        "u_idx = 3  # starting column index in training set for the users\n",
        "i_idx = 1  # starting column index in training set for the items (movies)\n",
        "model.fit([user_train[:, u_idx:], item_train[:, i_idx:]], y_train, epochs=EPOCHS)"
      ],
      "metadata": {
        "colab": {
          "base_uri": "https://localhost:8080/"
        },
        "id": "FGjWiN4UaOFR",
        "outputId": "063947a5-5014-4b1e-e890-5e0efbf9c7ff"
      },
      "execution_count": 7,
      "outputs": [
        {
          "output_type": "stream",
          "name": "stdout",
          "text": [
            "Epoch 1/40\n",
            "\u001b[1m1273/1273\u001b[0m \u001b[32m━━━━━━━━━━━━━━━━━━━━\u001b[0m\u001b[37m\u001b[0m \u001b[1m7s\u001b[0m 3ms/step - loss: 0.1305\n",
            "Epoch 2/40\n",
            "\u001b[1m1273/1273\u001b[0m \u001b[32m━━━━━━━━━━━━━━━━━━━━\u001b[0m\u001b[37m\u001b[0m \u001b[1m8s\u001b[0m 3ms/step - loss: 0.1152\n",
            "Epoch 3/40\n",
            "\u001b[1m1273/1273\u001b[0m \u001b[32m━━━━━━━━━━━━━━━━━━━━\u001b[0m\u001b[37m\u001b[0m \u001b[1m3s\u001b[0m 2ms/step - loss: 0.1091\n",
            "Epoch 4/40\n",
            "\u001b[1m1273/1273\u001b[0m \u001b[32m━━━━━━━━━━━━━━━━━━━━\u001b[0m\u001b[37m\u001b[0m \u001b[1m3s\u001b[0m 2ms/step - loss: 0.1045\n",
            "Epoch 5/40\n",
            "\u001b[1m1273/1273\u001b[0m \u001b[32m━━━━━━━━━━━━━━━━━━━━\u001b[0m\u001b[37m\u001b[0m \u001b[1m3s\u001b[0m 2ms/step - loss: 0.1002\n",
            "Epoch 6/40\n",
            "\u001b[1m1273/1273\u001b[0m \u001b[32m━━━━━━━━━━━━━━━━━━━━\u001b[0m\u001b[37m\u001b[0m \u001b[1m4s\u001b[0m 3ms/step - loss: 0.0973\n",
            "Epoch 7/40\n",
            "\u001b[1m1273/1273\u001b[0m \u001b[32m━━━━━━━━━━━━━━━━━━━━\u001b[0m\u001b[37m\u001b[0m \u001b[1m4s\u001b[0m 2ms/step - loss: 0.0952\n",
            "Epoch 8/40\n",
            "\u001b[1m1273/1273\u001b[0m \u001b[32m━━━━━━━━━━━━━━━━━━━━\u001b[0m\u001b[37m\u001b[0m \u001b[1m3s\u001b[0m 2ms/step - loss: 0.0934\n",
            "Epoch 9/40\n",
            "\u001b[1m1273/1273\u001b[0m \u001b[32m━━━━━━━━━━━━━━━━━━━━\u001b[0m\u001b[37m\u001b[0m \u001b[1m3s\u001b[0m 2ms/step - loss: 0.0919\n",
            "Epoch 10/40\n",
            "\u001b[1m1273/1273\u001b[0m \u001b[32m━━━━━━━━━━━━━━━━━━━━\u001b[0m\u001b[37m\u001b[0m \u001b[1m5s\u001b[0m 2ms/step - loss: 0.0903\n",
            "Epoch 11/40\n",
            "\u001b[1m1273/1273\u001b[0m \u001b[32m━━━━━━━━━━━━━━━━━━━━\u001b[0m\u001b[37m\u001b[0m \u001b[1m6s\u001b[0m 3ms/step - loss: 0.0887\n",
            "Epoch 12/40\n",
            "\u001b[1m1273/1273\u001b[0m \u001b[32m━━━━━━━━━━━━━━━━━━━━\u001b[0m\u001b[37m\u001b[0m \u001b[1m3s\u001b[0m 3ms/step - loss: 0.0872\n",
            "Epoch 13/40\n",
            "\u001b[1m1273/1273\u001b[0m \u001b[32m━━━━━━━━━━━━━━━━━━━━\u001b[0m\u001b[37m\u001b[0m \u001b[1m5s\u001b[0m 2ms/step - loss: 0.0857\n",
            "Epoch 14/40\n",
            "\u001b[1m1273/1273\u001b[0m \u001b[32m━━━━━━━━━━━━━━━━━━━━\u001b[0m\u001b[37m\u001b[0m \u001b[1m3s\u001b[0m 2ms/step - loss: 0.0842\n",
            "Epoch 15/40\n",
            "\u001b[1m1273/1273\u001b[0m \u001b[32m━━━━━━━━━━━━━━━━━━━━\u001b[0m\u001b[37m\u001b[0m \u001b[1m3s\u001b[0m 3ms/step - loss: 0.0828\n",
            "Epoch 16/40\n",
            "\u001b[1m1273/1273\u001b[0m \u001b[32m━━━━━━━━━━━━━━━━━━━━\u001b[0m\u001b[37m\u001b[0m \u001b[1m4s\u001b[0m 2ms/step - loss: 0.0817\n",
            "Epoch 17/40\n",
            "\u001b[1m1273/1273\u001b[0m \u001b[32m━━━━━━━━━━━━━━━━━━━━\u001b[0m\u001b[37m\u001b[0m \u001b[1m5s\u001b[0m 2ms/step - loss: 0.0806\n",
            "Epoch 18/40\n",
            "\u001b[1m1273/1273\u001b[0m \u001b[32m━━━━━━━━━━━━━━━━━━━━\u001b[0m\u001b[37m\u001b[0m \u001b[1m5s\u001b[0m 2ms/step - loss: 0.0797\n",
            "Epoch 19/40\n",
            "\u001b[1m1273/1273\u001b[0m \u001b[32m━━━━━━━━━━━━━━━━━━━━\u001b[0m\u001b[37m\u001b[0m \u001b[1m3s\u001b[0m 2ms/step - loss: 0.0787\n",
            "Epoch 20/40\n",
            "\u001b[1m1273/1273\u001b[0m \u001b[32m━━━━━━━━━━━━━━━━━━━━\u001b[0m\u001b[37m\u001b[0m \u001b[1m3s\u001b[0m 2ms/step - loss: 0.0778\n",
            "Epoch 21/40\n",
            "\u001b[1m1273/1273\u001b[0m \u001b[32m━━━━━━━━━━━━━━━━━━━━\u001b[0m\u001b[37m\u001b[0m \u001b[1m3s\u001b[0m 3ms/step - loss: 0.0771\n",
            "Epoch 22/40\n",
            "\u001b[1m1273/1273\u001b[0m \u001b[32m━━━━━━━━━━━━━━━━━━━━\u001b[0m\u001b[37m\u001b[0m \u001b[1m5s\u001b[0m 2ms/step - loss: 0.0763\n",
            "Epoch 23/40\n",
            "\u001b[1m1273/1273\u001b[0m \u001b[32m━━━━━━━━━━━━━━━━━━━━\u001b[0m\u001b[37m\u001b[0m \u001b[1m3s\u001b[0m 2ms/step - loss: 0.0757\n",
            "Epoch 24/40\n",
            "\u001b[1m1273/1273\u001b[0m \u001b[32m━━━━━━━━━━━━━━━━━━━━\u001b[0m\u001b[37m\u001b[0m \u001b[1m6s\u001b[0m 3ms/step - loss: 0.0750\n",
            "Epoch 25/40\n",
            "\u001b[1m1273/1273\u001b[0m \u001b[32m━━━━━━━━━━━━━━━━━━━━\u001b[0m\u001b[37m\u001b[0m \u001b[1m3s\u001b[0m 2ms/step - loss: 0.0742\n",
            "Epoch 26/40\n",
            "\u001b[1m1273/1273\u001b[0m \u001b[32m━━━━━━━━━━━━━━━━━━━━\u001b[0m\u001b[37m\u001b[0m \u001b[1m3s\u001b[0m 2ms/step - loss: 0.0736\n",
            "Epoch 27/40\n",
            "\u001b[1m1273/1273\u001b[0m \u001b[32m━━━━━━━━━━━━━━━━━━━━\u001b[0m\u001b[37m\u001b[0m \u001b[1m3s\u001b[0m 2ms/step - loss: 0.0730\n",
            "Epoch 28/40\n",
            "\u001b[1m1273/1273\u001b[0m \u001b[32m━━━━━━━━━━━━━━━━━━━━\u001b[0m\u001b[37m\u001b[0m \u001b[1m3s\u001b[0m 3ms/step - loss: 0.0723\n",
            "Epoch 29/40\n",
            "\u001b[1m1273/1273\u001b[0m \u001b[32m━━━━━━━━━━━━━━━━━━━━\u001b[0m\u001b[37m\u001b[0m \u001b[1m4s\u001b[0m 2ms/step - loss: 0.0717\n",
            "Epoch 30/40\n",
            "\u001b[1m1273/1273\u001b[0m \u001b[32m━━━━━━━━━━━━━━━━━━━━\u001b[0m\u001b[37m\u001b[0m \u001b[1m3s\u001b[0m 2ms/step - loss: 0.0712\n",
            "Epoch 31/40\n",
            "\u001b[1m1273/1273\u001b[0m \u001b[32m━━━━━━━━━━━━━━━━━━━━\u001b[0m\u001b[37m\u001b[0m \u001b[1m3s\u001b[0m 3ms/step - loss: 0.0706\n",
            "Epoch 32/40\n",
            "\u001b[1m1273/1273\u001b[0m \u001b[32m━━━━━━━━━━━━━━━━━━━━\u001b[0m\u001b[37m\u001b[0m \u001b[1m3s\u001b[0m 2ms/step - loss: 0.0701\n",
            "Epoch 33/40\n",
            "\u001b[1m1273/1273\u001b[0m \u001b[32m━━━━━━━━━━━━━━━━━━━━\u001b[0m\u001b[37m\u001b[0m \u001b[1m5s\u001b[0m 2ms/step - loss: 0.0696\n",
            "Epoch 34/40\n",
            "\u001b[1m1273/1273\u001b[0m \u001b[32m━━━━━━━━━━━━━━━━━━━━\u001b[0m\u001b[37m\u001b[0m \u001b[1m3s\u001b[0m 2ms/step - loss: 0.0692\n",
            "Epoch 35/40\n",
            "\u001b[1m1273/1273\u001b[0m \u001b[32m━━━━━━━━━━━━━━━━━━━━\u001b[0m\u001b[37m\u001b[0m \u001b[1m5s\u001b[0m 2ms/step - loss: 0.0687\n",
            "Epoch 36/40\n",
            "\u001b[1m1273/1273\u001b[0m \u001b[32m━━━━━━━━━━━━━━━━━━━━\u001b[0m\u001b[37m\u001b[0m \u001b[1m5s\u001b[0m 2ms/step - loss: 0.0683\n",
            "Epoch 37/40\n",
            "\u001b[1m1273/1273\u001b[0m \u001b[32m━━━━━━━━━━━━━━━━━━━━\u001b[0m\u001b[37m\u001b[0m \u001b[1m5s\u001b[0m 2ms/step - loss: 0.0680\n",
            "Epoch 38/40\n",
            "\u001b[1m1273/1273\u001b[0m \u001b[32m━━━━━━━━━━━━━━━━━━━━\u001b[0m\u001b[37m\u001b[0m \u001b[1m5s\u001b[0m 2ms/step - loss: 0.0675\n",
            "Epoch 39/40\n",
            "\u001b[1m1273/1273\u001b[0m \u001b[32m━━━━━━━━━━━━━━━━━━━━\u001b[0m\u001b[37m\u001b[0m \u001b[1m3s\u001b[0m 2ms/step - loss: 0.0672\n",
            "Epoch 40/40\n",
            "\u001b[1m1273/1273\u001b[0m \u001b[32m━━━━━━━━━━━━━━━━━━━━\u001b[0m\u001b[37m\u001b[0m \u001b[1m3s\u001b[0m 2ms/step - loss: 0.0669\n"
          ]
        },
        {
          "output_type": "execute_result",
          "data": {
            "text/plain": [
              "<keras.src.callbacks.history.History at 0x79edcc3f3850>"
            ]
          },
          "metadata": {},
          "execution_count": 7
        }
      ]
    },
    {
      "cell_type": "code",
      "source": [
        "# Evaluate the model to determine loss on the validation (test) set\n",
        "model.evaluate([user_test[:, u_idx:], item_test[:, i_idx:]], y_test)"
      ],
      "metadata": {
        "colab": {
          "base_uri": "https://localhost:8080/"
        },
        "id": "t_8Ib_PDalHZ",
        "outputId": "69645dab-3000-4374-d350-994fa06aaaab"
      },
      "execution_count": 8,
      "outputs": [
        {
          "output_type": "stream",
          "name": "stdout",
          "text": [
            "\u001b[1m319/319\u001b[0m \u001b[32m━━━━━━━━━━━━━━━━━━━━\u001b[0m\u001b[37m\u001b[0m \u001b[1m1s\u001b[0m 3ms/step - loss: 0.0854\n"
          ]
        },
        {
          "output_type": "execute_result",
          "data": {
            "text/plain": [
              "0.08149166405200958"
            ]
          },
          "metadata": {},
          "execution_count": 8
        }
      ]
    },
    {
      "cell_type": "markdown",
      "source": [
        "7) Inference or Predictions for an Existing User"
      ],
      "metadata": {
        "id": "nI7ItVuVk28P"
      }
    },
    {
      "cell_type": "markdown",
      "source": [
        "Now that the recommender system model is built using a neural network, predictions for an existing user can be made using user's preferences i.e. ratings provided for the items (movies). The predictions, y_p can then be compared with actual user's ratings, y."
      ],
      "metadata": {
        "id": "HS0bqjP6l2PD"
      }
    },
    {
      "cell_type": "code",
      "source": [
        "user_id = 10 # Existing user with user ID: 10\n",
        "\n",
        "# Define an empty user_vec\n",
        "new_user_id = 0\n",
        "new_rating_ave = 0.0\n",
        "new_action = 0.0\n",
        "new_adventure = 0.0\n",
        "new_animation = 0.0\n",
        "new_childrens = 0.0\n",
        "new_comedy = 0.0\n",
        "new_crime = 0.0\n",
        "new_documentary = 0.0\n",
        "new_drama = 0.0\n",
        "new_fantasy = 0.0\n",
        "new_horror = 0.0\n",
        "new_mystery = 0.0\n",
        "new_romance = 0.0\n",
        "new_scifi = 0.0\n",
        "new_thriller = 0.0\n",
        "new_rating_count = 0\n",
        "\n",
        "user_vec = np.array([[new_user_id, new_rating_count, new_rating_ave,\n",
        "                      new_action, new_adventure, new_animation, new_childrens,\n",
        "                      new_comedy, new_crime, new_documentary,\n",
        "                      new_drama, new_fantasy, new_horror, new_mystery,\n",
        "                      new_romance, new_scifi, new_thriller]])\n",
        "\n",
        "# Populate user and y vectors\n",
        "if not user_id in user_to_genre:\n",
        "  print(\"error: unknown user_id\")\n",
        "else:\n",
        "  user_vec_found = False\n",
        "  for i in range(len(user_train_unscaled)):\n",
        "    if user_train_unscaled[i, 0] == user_id:\n",
        "      user_vec = user_train_unscaled[i]\n",
        "      user_vec_found = True\n",
        "      break\n",
        "  if not user_vec_found:\n",
        "    print(\"error: did not find user_id in user_train\")\n",
        "  num_items = len(item_vecs)\n",
        "  user_vecs = np.tile(user_vec, (num_items, 1))\n",
        "\n",
        "  y_vecs = np.zeros(num_items)\n",
        "  for i in range(num_items):  # Check and retrieve the movie rating\n",
        "    movie_id = item_vecs[i, 0]\n",
        "    if movie_id in user_to_genre[user_id]['movies']:\n",
        "      rating = user_to_genre[user_id]['movies'][movie_id]\n",
        "    else:\n",
        "      rating = 0\n",
        "    y_vecs[i] = rating\n",
        "\n",
        "# Scale user and item vectors\n",
        "suser_vecs = scalerUser.transform(user_vecs)\n",
        "sitem_vecs = scalerItem.transform(item_vecs)\n",
        "\n",
        "# Inference or Prediction\n",
        "u_idx = 3\n",
        "i_idx = 1\n",
        "y_p = model.predict([suser_vecs[:, u_idx:], sitem_vecs[:, i_idx:]])\n",
        "\n",
        "# Perform inverse_transform()\n",
        "y_pu = scalerTarget.inverse_transform(y_p)\n",
        "\n",
        "# Sort the results such that highest prediction is first\n",
        "sorted_index      = np.argsort(-y_pu, axis=0).reshape(-1).tolist()\n",
        "sorted_ypu        = y_pu[sorted_index]\n",
        "sorted_items      = item_vecs[sorted_index]\n",
        "sorted_user       = user_vecs[sorted_index]\n",
        "sorted_y          = y_vecs[sorted_index]\n",
        "sorted_y_reshaped = sorted_y.reshape(-1,1)\n",
        "\n",
        "# Recommender system top-rated movies for an existing user to watch based on the movies rated so far by the same user\n",
        "count = 0\n",
        "maxcount = 50\n",
        "disp = [[\"y_p\", \"y\", \"user\", \"user genre ave\", \"movie rating ave\", \"movie id\", \"title\", \"genres\"]]\n",
        "for i in range(0, sorted_y_reshaped.shape[0]):\n",
        "  if sorted_y_reshaped[i, 0] != 0: # Zero means that movie is not rated by the existing user\n",
        "    if count == maxcount:\n",
        "      break\n",
        "    count += 1\n",
        "    movie_id = sorted_items[i, 0].astype(int)\n",
        "    offsets  = np.nonzero(sorted_items[i, 3:] == 1)[0]\n",
        "    genre_ratings = sorted_user[i, 3 + offsets]\n",
        "    disp.append([sorted_ypu[i, 0], # \"y_p\"\n",
        "                 sorted_y_reshaped[i, 0], # \"y\"\n",
        "                 sorted_user[i, 0].astype(int), # \"user\"\n",
        "                 np.array2string(genre_ratings,\n",
        "                                 formatter={'float_kind':lambda x: \"%.1f\" % x},\n",
        "                                 separator=',', suppress_small=True), # \"user genre ave\"\n",
        "                 sorted_items[i, 2].astype(float), # \"movie rating ave\"\n",
        "                 movie_id,\n",
        "                 movie_dict[movie_id][\"title\"],\n",
        "                 movie_dict[movie_id][\"genres\"]])\n",
        "\n",
        "display(HTML(tabulate.tabulate(disp, tablefmt=\"html\", headers=\"firstrow\", floatfmt=[\".1f\", \".1f\", \".0f\", \".2f\", \".1f\"])))"
      ],
      "metadata": {
        "id": "h5SkzQFzlzPj",
        "colab": {
          "base_uri": "https://localhost:8080/",
          "height": 1000
        },
        "outputId": "1909d4e4-efdb-4c72-f10e-f56253bd77dd"
      },
      "execution_count": 9,
      "outputs": [
        {
          "output_type": "stream",
          "name": "stdout",
          "text": [
            "\u001b[1m27/27\u001b[0m \u001b[32m━━━━━━━━━━━━━━━━━━━━\u001b[0m\u001b[37m\u001b[0m \u001b[1m1s\u001b[0m 18ms/step\n"
          ]
        },
        {
          "output_type": "display_data",
          "data": {
            "text/plain": [
              "<IPython.core.display.HTML object>"
            ],
            "text/html": [
              "<table>\n",
              "<thead>\n",
              "<tr><th style=\"text-align: right;\">  y_p</th><th style=\"text-align: right;\">  y</th><th style=\"text-align: right;\">  user</th><th>user genre ave           </th><th style=\"text-align: right;\">  movie rating ave</th><th style=\"text-align: right;\">  movie id</th><th>title                                   </th><th>genres                                             </th></tr>\n",
              "</thead>\n",
              "<tbody>\n",
              "<tr><td style=\"text-align: right;\">  4.3</td><td style=\"text-align: right;\">5.0</td><td style=\"text-align: right;\">    10</td><td>[3.9,3.8,3.3,3.5]        </td><td style=\"text-align: right;\">               3.7</td><td style=\"text-align: right;\">     79091</td><td>Despicable Me (2010)                    </td><td>Animation|Children|Comedy|Crime                    </td></tr>\n",
              "<tr><td style=\"text-align: right;\">  4.1</td><td style=\"text-align: right;\">4.5</td><td style=\"text-align: right;\">    10</td><td>[3.6,3.9,3.8,3.3,3.8,3.5]</td><td style=\"text-align: right;\">               3.9</td><td style=\"text-align: right;\">      4306</td><td>Shrek (2001)                            </td><td>Adventure|Animation|Children|Comedy|Fantasy|Romance</td></tr>\n",
              "<tr><td style=\"text-align: right;\">  4.1</td><td style=\"text-align: right;\">4.5</td><td style=\"text-align: right;\">    10</td><td>[3.6,3.9,3.3,3.8,3.5]    </td><td style=\"text-align: right;\">               3.6</td><td style=\"text-align: right;\">    106696</td><td>Frozen (2013)                           </td><td>Adventure|Animation|Comedy|Fantasy|Romance         </td></tr>\n",
              "<tr><td style=\"text-align: right;\">  4.0</td><td style=\"text-align: right;\">4.0</td><td style=\"text-align: right;\">    10</td><td>[3.6,3.9,3.8,3.3]        </td><td style=\"text-align: right;\">               4.0</td><td style=\"text-align: right;\">     68954</td><td>Up (2009)                               </td><td>Adventure|Animation|Children|Drama                 </td></tr>\n",
              "<tr><td style=\"text-align: right;\">  4.0</td><td style=\"text-align: right;\">3.5</td><td style=\"text-align: right;\">    10</td><td>[3.7,3.5,3.9]            </td><td style=\"text-align: right;\">               3.8</td><td style=\"text-align: right;\">      8665</td><td>Bourne Supremacy, The (2004)            </td><td>Action|Crime|Thriller                              </td></tr>\n",
              "<tr><td style=\"text-align: right;\">  4.0</td><td style=\"text-align: right;\">3.5</td><td style=\"text-align: right;\">    10</td><td>[3.7,3.5,3.9]            </td><td style=\"text-align: right;\">               3.7</td><td style=\"text-align: right;\">     54286</td><td>Bourne Ultimatum, The (2007)            </td><td>Action|Crime|Thriller                              </td></tr>\n",
              "<tr><td style=\"text-align: right;\">  3.9</td><td style=\"text-align: right;\">4.0</td><td style=\"text-align: right;\">    10</td><td>[3.9,3.8,3.3]            </td><td style=\"text-align: right;\">               3.6</td><td style=\"text-align: right;\">    103335</td><td>Despicable Me 2 (2013)                  </td><td>Animation|Children|Comedy                          </td></tr>\n",
              "<tr><td style=\"text-align: right;\">  3.9</td><td style=\"text-align: right;\">4.0</td><td style=\"text-align: right;\">    10</td><td>[3.7,3.6,3.9,3.8]        </td><td style=\"text-align: right;\">               3.5</td><td style=\"text-align: right;\">     95167</td><td>Brave (2012)                            </td><td>Action|Adventure|Animation|Children                </td></tr>\n",
              "<tr><td style=\"text-align: right;\">  3.9</td><td style=\"text-align: right;\">5.0</td><td style=\"text-align: right;\">    10</td><td>[3.7,3.5]                </td><td style=\"text-align: right;\">               3.9</td><td style=\"text-align: right;\">     33794</td><td>Batman Begins (2005)                    </td><td>Action|Crime                                       </td></tr>\n",
              "<tr><td style=\"text-align: right;\">  3.8</td><td style=\"text-align: right;\">3.5</td><td style=\"text-align: right;\">    10</td><td>[3.9,3.8,3.3,3.8,3.5]    </td><td style=\"text-align: right;\">               3.9</td><td style=\"text-align: right;\">     81847</td><td>Tangled (2010)                          </td><td>Animation|Children|Comedy|Fantasy|Romance          </td></tr>\n",
              "<tr><td style=\"text-align: right;\">  3.8</td><td style=\"text-align: right;\">3.5</td><td style=\"text-align: right;\">    10</td><td>[3.6,3.9,3.8,3.3]        </td><td style=\"text-align: right;\">               4.0</td><td style=\"text-align: right;\">      6377</td><td>Finding Nemo (2003)                     </td><td>Adventure|Animation|Children|Comedy                </td></tr>\n",
              "<tr><td style=\"text-align: right;\">  3.8</td><td style=\"text-align: right;\">5.0</td><td style=\"text-align: right;\">    10</td><td>[3.3,3.5]                </td><td style=\"text-align: right;\">               3.6</td><td style=\"text-align: right;\">      8533</td><td>Notebook, The (2004)                    </td><td>Drama|Romance                                      </td></tr>\n",
              "<tr><td style=\"text-align: right;\">  3.8</td><td style=\"text-align: right;\">3.0</td><td style=\"text-align: right;\">    10</td><td>[3.3,3.5]                </td><td style=\"text-align: right;\">               3.6</td><td style=\"text-align: right;\">     40629</td><td>Pride &amp; Prejudice (2005)                </td><td>Drama|Romance                                      </td></tr>\n",
              "<tr><td style=\"text-align: right;\">  3.8</td><td style=\"text-align: right;\">3.0</td><td style=\"text-align: right;\">    10</td><td>[3.3,3.5]                </td><td style=\"text-align: right;\">               3.5</td><td style=\"text-align: right;\">      5066</td><td>Walk to Remember, A (2002)              </td><td>Drama|Romance                                      </td></tr>\n",
              "<tr><td style=\"text-align: right;\">  3.8</td><td style=\"text-align: right;\">3.0</td><td style=\"text-align: right;\">    10</td><td>[3.3,3.5]                </td><td style=\"text-align: right;\">               3.4</td><td style=\"text-align: right;\">      7151</td><td>Girl with a Pearl Earring (2003)        </td><td>Drama|Romance                                      </td></tr>\n",
              "<tr><td style=\"text-align: right;\">  3.8</td><td style=\"text-align: right;\">3.0</td><td style=\"text-align: right;\">    10</td><td>[3.7,3.6,2.4]            </td><td style=\"text-align: right;\">               3.2</td><td style=\"text-align: right;\">     95510</td><td>Amazing Spider-Man, The (2012)          </td><td>Action|Adventure|Sci-Fi                            </td></tr>\n",
              "<tr><td style=\"text-align: right;\">  3.8</td><td style=\"text-align: right;\">5.0</td><td style=\"text-align: right;\">    10</td><td>[3.7,3.6,3.9]            </td><td style=\"text-align: right;\">               3.8</td><td style=\"text-align: right;\">     96079</td><td>Skyfall (2012)                          </td><td>Action|Adventure|Thriller                          </td></tr>\n",
              "<tr><td style=\"text-align: right;\">  3.8</td><td style=\"text-align: right;\">4.0</td><td style=\"text-align: right;\">    10</td><td>[3.3,3.5]                </td><td style=\"text-align: right;\">               3.8</td><td style=\"text-align: right;\">     40819</td><td>Walk the Line (2005)                    </td><td>Drama|Romance                                      </td></tr>\n",
              "<tr><td style=\"text-align: right;\">  3.7</td><td style=\"text-align: right;\">5.0</td><td style=\"text-align: right;\">    10</td><td>[3.7,3.6,3.5]            </td><td style=\"text-align: right;\">               3.1</td><td style=\"text-align: right;\">    136020</td><td>Spectre (2015)                          </td><td>Action|Adventure|Crime                             </td></tr>\n",
              "<tr><td style=\"text-align: right;\">  3.7</td><td style=\"text-align: right;\">5.0</td><td style=\"text-align: right;\">    10</td><td>[3.7,3.6,3.3]            </td><td style=\"text-align: right;\">               3.4</td><td style=\"text-align: right;\">      7458</td><td>Troy (2004)                             </td><td>Action|Adventure|Drama                             </td></tr>\n",
              "<tr><td style=\"text-align: right;\">  3.7</td><td style=\"text-align: right;\">4.0</td><td style=\"text-align: right;\">    10</td><td>[3.3,3.5]                </td><td style=\"text-align: right;\">               4.0</td><td style=\"text-align: right;\">      4995</td><td>Beautiful Mind, A (2001)                </td><td>Drama|Romance                                      </td></tr>\n",
              "<tr><td style=\"text-align: right;\">  3.7</td><td style=\"text-align: right;\">1.0</td><td style=\"text-align: right;\">    10</td><td>[3.3]                    </td><td style=\"text-align: right;\">               3.6</td><td style=\"text-align: right;\">      8970</td><td>Finding Neverland (2004)                </td><td>Drama                                              </td></tr>\n",
              "<tr><td style=\"text-align: right;\">  3.7</td><td style=\"text-align: right;\">3.5</td><td style=\"text-align: right;\">    10</td><td>[3.7,3.6,2.4]            </td><td style=\"text-align: right;\">               3.8</td><td style=\"text-align: right;\">      8636</td><td>Spider-Man 2 (2004)                     </td><td>Action|Adventure|Sci-Fi                            </td></tr>\n",
              "<tr><td style=\"text-align: right;\">  3.7</td><td style=\"text-align: right;\">5.0</td><td style=\"text-align: right;\">    10</td><td>[3.3]                    </td><td style=\"text-align: right;\">               4.0</td><td style=\"text-align: right;\">     81845</td><td>King&#x27;s Speech, The (2010)               </td><td>Drama                                              </td></tr>\n",
              "<tr><td style=\"text-align: right;\">  3.7</td><td style=\"text-align: right;\">2.5</td><td style=\"text-align: right;\">    10</td><td>[3.7,3.6,2.4]            </td><td style=\"text-align: right;\">               3.6</td><td style=\"text-align: right;\">     72998</td><td>Avatar (2009)                           </td><td>Action|Adventure|Sci-Fi                            </td></tr>\n",
              "<tr><td style=\"text-align: right;\">  3.6</td><td style=\"text-align: right;\">2.5</td><td style=\"text-align: right;\">    10</td><td>[3.3,3.5]                </td><td style=\"text-align: right;\">               3.7</td><td style=\"text-align: right;\">     72011</td><td>Up in the Air (2009)                    </td><td>Drama|Romance                                      </td></tr>\n",
              "<tr><td style=\"text-align: right;\">  3.6</td><td style=\"text-align: right;\">4.0</td><td style=\"text-align: right;\">    10</td><td>[3.3,3.5]                </td><td style=\"text-align: right;\">               2.8</td><td style=\"text-align: right;\">      7154</td><td>Mona Lisa Smile (2003)                  </td><td>Drama|Romance                                      </td></tr>\n",
              "<tr><td style=\"text-align: right;\">  3.6</td><td style=\"text-align: right;\">3.5</td><td style=\"text-align: right;\">    10</td><td>[3.7,3.6,3.9]            </td><td style=\"text-align: right;\">               3.5</td><td style=\"text-align: right;\">     63113</td><td>Quantum of Solace (2008)                </td><td>Action|Adventure|Thriller                          </td></tr>\n",
              "<tr><td style=\"text-align: right;\">  3.6</td><td style=\"text-align: right;\">4.5</td><td style=\"text-align: right;\">    10</td><td>[3.3,3.8,3.5,3.9]        </td><td style=\"text-align: right;\">               2.4</td><td style=\"text-align: right;\">     63992</td><td>Twilight (2008)                         </td><td>Drama|Fantasy|Romance|Thriller                     </td></tr>\n",
              "<tr><td style=\"text-align: right;\">  3.6</td><td style=\"text-align: right;\">2.5</td><td style=\"text-align: right;\">    10</td><td>[3.5,3.3,3.5]            </td><td style=\"text-align: right;\">               3.4</td><td style=\"text-align: right;\">     41285</td><td>Match Point (2005)                      </td><td>Crime|Drama|Romance                                </td></tr>\n",
              "<tr><td style=\"text-align: right;\">  3.6</td><td style=\"text-align: right;\">3.5</td><td style=\"text-align: right;\">    10</td><td>[3.3,3.3,3.5]            </td><td style=\"text-align: right;\">               3.3</td><td style=\"text-align: right;\">      8529</td><td>Terminal, The (2004)                    </td><td>Comedy|Drama|Romance                               </td></tr>\n",
              "<tr><td style=\"text-align: right;\">  3.6</td><td style=\"text-align: right;\">3.0</td><td style=\"text-align: right;\">    10</td><td>[3.3]                    </td><td style=\"text-align: right;\">               3.8</td><td style=\"text-align: right;\">     47099</td><td>Pursuit of Happyness, The (2006)        </td><td>Drama                                              </td></tr>\n",
              "<tr><td style=\"text-align: right;\">  3.6</td><td style=\"text-align: right;\">5.0</td><td style=\"text-align: right;\">    10</td><td>[3.7,3.6,3.5]            </td><td style=\"text-align: right;\">               4.0</td><td style=\"text-align: right;\">     91529</td><td>Dark Knight Rises, The (2012)           </td><td>Action|Adventure|Crime                             </td></tr>\n",
              "<tr><td style=\"text-align: right;\">  3.6</td><td style=\"text-align: right;\">3.0</td><td style=\"text-align: right;\">    10</td><td>[3.7,3.5,3.0,3.9]        </td><td style=\"text-align: right;\">               3.9</td><td style=\"text-align: right;\">     73017</td><td>Sherlock Holmes (2009)                  </td><td>Action|Crime|Mystery|Thriller                      </td></tr>\n",
              "<tr><td style=\"text-align: right;\">  3.6</td><td style=\"text-align: right;\">4.0</td><td style=\"text-align: right;\">    10</td><td>[3.3,3.8,3.5]            </td><td style=\"text-align: right;\">               3.9</td><td style=\"text-align: right;\">    104374</td><td>About Time (2013)                       </td><td>Drama|Fantasy|Romance                              </td></tr>\n",
              "<tr><td style=\"text-align: right;\">  3.5</td><td style=\"text-align: right;\">3.0</td><td style=\"text-align: right;\">    10</td><td>[3.3]                    </td><td style=\"text-align: right;\">               3.8</td><td style=\"text-align: right;\">     88810</td><td>Help, The (2011)                        </td><td>Drama                                              </td></tr>\n",
              "<tr><td style=\"text-align: right;\">  3.5</td><td style=\"text-align: right;\">5.0</td><td style=\"text-align: right;\">    10</td><td>[3.7,3.6,3.9]            </td><td style=\"text-align: right;\">               3.9</td><td style=\"text-align: right;\">     49272</td><td>Casino Royale (2006)                    </td><td>Action|Adventure|Thriller                          </td></tr>\n",
              "<tr><td style=\"text-align: right;\">  3.5</td><td style=\"text-align: right;\">3.5</td><td style=\"text-align: right;\">    10</td><td>[3.3,3.5]                </td><td style=\"text-align: right;\">               3.6</td><td style=\"text-align: right;\">      7293</td><td>50 First Dates (2004)                   </td><td>Comedy|Romance                                     </td></tr>\n",
              "<tr><td style=\"text-align: right;\">  3.5</td><td style=\"text-align: right;\">3.5</td><td style=\"text-align: right;\">    10</td><td>[3.3]                    </td><td style=\"text-align: right;\">               3.8</td><td style=\"text-align: right;\">     30749</td><td>Hotel Rwanda (2004)                     </td><td>Drama                                              </td></tr>\n",
              "<tr><td style=\"text-align: right;\">  3.5</td><td style=\"text-align: right;\">3.5</td><td style=\"text-align: right;\">    10</td><td>[3.3,3.3,3.5]            </td><td style=\"text-align: right;\">               3.0</td><td style=\"text-align: right;\">      8969</td><td>Bridget Jones: The Edge of Reason (2004)</td><td>Comedy|Drama|Romance                               </td></tr>\n",
              "<tr><td style=\"text-align: right;\">  3.5</td><td style=\"text-align: right;\">3.0</td><td style=\"text-align: right;\">    10</td><td>[3.8,3.5,3.9]            </td><td style=\"text-align: right;\">               2.5</td><td style=\"text-align: right;\">     78772</td><td>Twilight Saga: Eclipse, The (2010)      </td><td>Fantasy|Romance|Thriller                           </td></tr>\n",
              "<tr><td style=\"text-align: right;\">  3.4</td><td style=\"text-align: right;\">4.0</td><td style=\"text-align: right;\">    10</td><td>[3.3,3.3,3.5]            </td><td style=\"text-align: right;\">               3.6</td><td style=\"text-align: right;\">      7149</td><td>Something&#x27;s Gotta Give (2003)           </td><td>Comedy|Drama|Romance                               </td></tr>\n",
              "<tr><td style=\"text-align: right;\">  3.4</td><td style=\"text-align: right;\">0.5</td><td style=\"text-align: right;\">    10</td><td>[3.3]                    </td><td style=\"text-align: right;\">               3.6</td><td style=\"text-align: right;\">     64969</td><td>Yes Man (2008)                          </td><td>Comedy                                             </td></tr>\n",
              "<tr><td style=\"text-align: right;\">  3.4</td><td style=\"text-align: right;\">4.5</td><td style=\"text-align: right;\">    10</td><td>[3.7,3.5,3.3]            </td><td style=\"text-align: right;\">               4.2</td><td style=\"text-align: right;\">     58559</td><td>Dark Knight, The (2008)                 </td><td>Action|Crime|Drama                                 </td></tr>\n",
              "<tr><td style=\"text-align: right;\">  3.4</td><td style=\"text-align: right;\">3.5</td><td style=\"text-align: right;\">    10</td><td>[3.9,3.8,3.8,3.5]        </td><td style=\"text-align: right;\">               3.8</td><td style=\"text-align: right;\">     72737</td><td>Princess and the Frog, The (2009)       </td><td>Animation|Children|Fantasy|Romance                 </td></tr>\n",
              "<tr><td style=\"text-align: right;\">  3.4</td><td style=\"text-align: right;\">4.0</td><td style=\"text-align: right;\">    10</td><td>[3.3,3.3,3.5]            </td><td style=\"text-align: right;\">               3.8</td><td style=\"text-align: right;\">      6942</td><td>Love Actually (2003)                    </td><td>Comedy|Drama|Romance                               </td></tr>\n",
              "<tr><td style=\"text-align: right;\">  3.4</td><td style=\"text-align: right;\">3.5</td><td style=\"text-align: right;\">    10</td><td>[3.3,3.3,3.5]            </td><td style=\"text-align: right;\">               3.6</td><td style=\"text-align: right;\">      4246</td><td>Bridget Jones&#x27;s Diary (2001)            </td><td>Comedy|Drama|Romance                               </td></tr>\n",
              "<tr><td style=\"text-align: right;\">  3.4</td><td style=\"text-align: right;\">4.5</td><td style=\"text-align: right;\">    10</td><td>[3.3,3.5]                </td><td style=\"text-align: right;\">               3.5</td><td style=\"text-align: right;\">     69406</td><td>Proposal, The (2009)                    </td><td>Comedy|Romance                                     </td></tr>\n",
              "<tr><td style=\"text-align: right;\">  3.4</td><td style=\"text-align: right;\">3.5</td><td style=\"text-align: right;\">    10</td><td>[3.3,3.3,3.5]            </td><td style=\"text-align: right;\">               3.7</td><td style=\"text-align: right;\">      5377</td><td>About a Boy (2002)                      </td><td>Comedy|Drama|Romance                               </td></tr>\n",
              "<tr><td style=\"text-align: right;\">  3.4</td><td style=\"text-align: right;\">3.0</td><td style=\"text-align: right;\">    10</td><td>[3.3,3.5]                </td><td style=\"text-align: right;\">               3.3</td><td style=\"text-align: right;\">      6155</td><td>How to Lose a Guy in 10 Days (2003)     </td><td>Comedy|Romance                                     </td></tr>\n",
              "</tbody>\n",
              "</table>"
            ]
          },
          "metadata": {}
        }
      ]
    },
    {
      "cell_type": "code",
      "source": [
        "user_id = 600 # Existing user with user ID: 600\n",
        "\n",
        "# Define an empty user_vec\n",
        "new_user_id = 0\n",
        "new_rating_ave = 0.0\n",
        "new_action = 0.0\n",
        "new_adventure = 0.0\n",
        "new_animation = 0.0\n",
        "new_childrens = 0.0\n",
        "new_comedy = 0.0\n",
        "new_crime = 0.0\n",
        "new_documentary = 0.0\n",
        "new_drama = 0.0\n",
        "new_fantasy = 0.0\n",
        "new_horror = 0.0\n",
        "new_mystery = 0.0\n",
        "new_romance = 0.0\n",
        "new_scifi = 0.0\n",
        "new_thriller = 0.0\n",
        "new_rating_count = 0\n",
        "\n",
        "user_vec = np.array([[new_user_id, new_rating_count, new_rating_ave,\n",
        "                      new_action, new_adventure, new_animation, new_childrens,\n",
        "                      new_comedy, new_crime, new_documentary,\n",
        "                      new_drama, new_fantasy, new_horror, new_mystery,\n",
        "                      new_romance, new_scifi, new_thriller]])\n",
        "\n",
        "if not user_id in user_to_genre:\n",
        "  print(\"error: unknown user_id\")\n",
        "else:\n",
        "  user_vec_found = False\n",
        "  for i in range(len(user_train_unscaled)):\n",
        "    if user_train_unscaled[i, 0] == user_id:\n",
        "      user_vec = user_train_unscaled[i]\n",
        "      user_vec_found = True\n",
        "      break\n",
        "  if not user_vec_found:\n",
        "    print(\"error: did not find user_id in user_train\")\n",
        "  num_items = len(item_vecs)\n",
        "  user_vecs = np.tile(user_vec, (num_items, 1))\n",
        "\n",
        "  y_vecs = np.zeros(num_items)\n",
        "  for i in range(num_items):  # Check and retrieve the movie rating\n",
        "    movie_id = item_vecs[i, 0]\n",
        "    if movie_id in user_to_genre[user_id]['movies']:\n",
        "      rating = user_to_genre[user_id]['movies'][movie_id]\n",
        "    else:\n",
        "      rating = 0\n",
        "    y_vecs[i] = rating\n",
        "\n",
        "# Scale user and item vectors\n",
        "suser_vecs = scalerUser.transform(user_vecs)\n",
        "sitem_vecs = scalerItem.transform(item_vecs)\n",
        "\n",
        "# Inference or Prediction\n",
        "u_idx = 3\n",
        "i_idx = 1\n",
        "y_p = model.predict([suser_vecs[:, u_idx:], sitem_vecs[:, i_idx:]])\n",
        "\n",
        "# Perform inverse_transform()\n",
        "y_pu = scalerTarget.inverse_transform(y_p)\n",
        "\n",
        "# Sort the results such that highest prediction is first\n",
        "sorted_index      = np.argsort(-y_pu, axis=0).reshape(-1).tolist()\n",
        "sorted_ypu        = y_pu[sorted_index]\n",
        "sorted_items      = item_vecs[sorted_index]\n",
        "sorted_user       = user_vecs[sorted_index]\n",
        "sorted_y          = y_vecs[sorted_index]\n",
        "sorted_y_reshaped = sorted_y.reshape(-1,1)\n",
        "\n",
        "# Recommender system top-rated movies for an existing user to watch based on the movies rated so far by the same user\n",
        "count = 0\n",
        "maxcount = 50\n",
        "disp = [[\"y_p\", \"y\", \"user\", \"user genre ave\", \"movie rating ave\", \"movie id\", \"title\", \"genres\"]]\n",
        "for i in range(0, sorted_y_reshaped.shape[0]):\n",
        "  if sorted_y_reshaped[i, 0] != 0: # Zero means that movie is not rated by the existing user\n",
        "    if count == maxcount:\n",
        "      break\n",
        "    count += 1\n",
        "    movie_id = sorted_items[i, 0].astype(int)\n",
        "    offsets  = np.nonzero(sorted_items[i, 3:] == 1)[0]\n",
        "    genre_ratings = sorted_user[i, 3 + offsets]\n",
        "    disp.append([sorted_ypu[i, 0], # \"y_p\"\n",
        "                 sorted_y_reshaped[i, 0], # \"y\"\n",
        "                 sorted_user[i, 0].astype(int), # \"user\"\n",
        "                 np.array2string(genre_ratings,\n",
        "                                 formatter={'float_kind':lambda x: \"%.1f\" % x},\n",
        "                                 separator=',', suppress_small=True), # \"user genre ave\"\n",
        "                 sorted_items[i, 2].astype(float), # \"movie rating ave\"\n",
        "                 movie_id,\n",
        "                 movie_dict[movie_id][\"title\"],\n",
        "                 movie_dict[movie_id][\"genres\"]])\n",
        "\n",
        "display(HTML(tabulate.tabulate(disp, tablefmt=\"html\", headers=\"firstrow\", floatfmt=[\".1f\", \".1f\", \".0f\", \".2f\", \".1f\"])))"
      ],
      "metadata": {
        "colab": {
          "base_uri": "https://localhost:8080/",
          "height": 1000
        },
        "id": "IB6b6I1PIfk_",
        "outputId": "a12a6fc8-a922-4185-8d8f-82b3be562c2a"
      },
      "execution_count": 10,
      "outputs": [
        {
          "output_type": "stream",
          "name": "stdout",
          "text": [
            "\u001b[1m27/27\u001b[0m \u001b[32m━━━━━━━━━━━━━━━━━━━━\u001b[0m\u001b[37m\u001b[0m \u001b[1m0s\u001b[0m 2ms/step \n"
          ]
        },
        {
          "output_type": "display_data",
          "data": {
            "text/plain": [
              "<IPython.core.display.HTML object>"
            ],
            "text/html": [
              "<table>\n",
              "<thead>\n",
              "<tr><th style=\"text-align: right;\">  y_p</th><th style=\"text-align: right;\">  y</th><th style=\"text-align: right;\">  user</th><th>user genre ave           </th><th style=\"text-align: right;\">  movie rating ave</th><th style=\"text-align: right;\">  movie id</th><th>title                                                                                     </th><th>genres                                             </th></tr>\n",
              "</thead>\n",
              "<tbody>\n",
              "<tr><td style=\"text-align: right;\">  4.2</td><td style=\"text-align: right;\">5.0</td><td style=\"text-align: right;\">   600</td><td>[3.0,3.9,3.8]            </td><td style=\"text-align: right;\">               4.2</td><td style=\"text-align: right;\">      5618</td><td>Spirited Away (Sen to Chihiro no kamikakushi) (2001)                                      </td><td>Adventure|Animation|Fantasy                        </td></tr>\n",
              "<tr><td style=\"text-align: right;\">  4.1</td><td style=\"text-align: right;\">4.5</td><td style=\"text-align: right;\">   600</td><td>[3.0,3.8,2.5]            </td><td style=\"text-align: right;\">               3.8</td><td style=\"text-align: right;\">     48394</td><td>Pan&#x27;s Labyrinth (Laberinto del fauno, El) (2006)                                          </td><td>Drama|Fantasy|Thriller                             </td></tr>\n",
              "<tr><td style=\"text-align: right;\">  4.1</td><td style=\"text-align: right;\">4.0</td><td style=\"text-align: right;\">   600</td><td>[3.9,3.0,3.8]            </td><td style=\"text-align: right;\">               3.7</td><td style=\"text-align: right;\">      4873</td><td>Waking Life (2001)                                                                        </td><td>Animation|Drama|Fantasy                            </td></tr>\n",
              "<tr><td style=\"text-align: right;\">  4.1</td><td style=\"text-align: right;\">4.0</td><td style=\"text-align: right;\">   600</td><td>[3.9,3.8,2.5]            </td><td style=\"text-align: right;\">               3.7</td><td style=\"text-align: right;\">     66097</td><td>Coraline (2009)                                                                           </td><td>Animation|Fantasy|Thriller                         </td></tr>\n",
              "<tr><td style=\"text-align: right;\">  4.1</td><td style=\"text-align: right;\">5.0</td><td style=\"text-align: right;\">   600</td><td>[2.3,3.0,3.0,3.8]        </td><td style=\"text-align: right;\">               4.1</td><td style=\"text-align: right;\">      7153</td><td>Lord of the Rings: The Return of the King, The (2003)                                     </td><td>Action|Adventure|Drama|Fantasy                     </td></tr>\n",
              "<tr><td style=\"text-align: right;\">  4.0</td><td style=\"text-align: right;\">5.0</td><td style=\"text-align: right;\">   600</td><td>[3.0,3.8]                </td><td style=\"text-align: right;\">               4.1</td><td style=\"text-align: right;\">      4993</td><td>Lord of the Rings: The Fellowship of the Ring, The (2001)                                 </td><td>Adventure|Fantasy                                  </td></tr>\n",
              "<tr><td style=\"text-align: right;\">  4.0</td><td style=\"text-align: right;\">5.0</td><td style=\"text-align: right;\">   600</td><td>[3.0,3.8]                </td><td style=\"text-align: right;\">               4.0</td><td style=\"text-align: right;\">      5952</td><td>Lord of the Rings: The Two Towers, The (2002)                                             </td><td>Adventure|Fantasy                                  </td></tr>\n",
              "<tr><td style=\"text-align: right;\">  4.0</td><td style=\"text-align: right;\">4.5</td><td style=\"text-align: right;\">   600</td><td>[3.1,2.9]                </td><td style=\"text-align: right;\">               4.0</td><td style=\"text-align: right;\">      8874</td><td>Shaun of the Dead (2004)                                                                  </td><td>Comedy|Horror                                      </td></tr>\n",
              "<tr><td style=\"text-align: right;\">  3.9</td><td style=\"text-align: right;\">3.5</td><td style=\"text-align: right;\">   600</td><td>[3.1,3.0,3.8,3.1]        </td><td style=\"text-align: right;\">               3.9</td><td style=\"text-align: right;\">     48082</td><td>Science of Sleep, The (La science des rêves) (2006)                                       </td><td>Comedy|Drama|Fantasy|Romance                       </td></tr>\n",
              "<tr><td style=\"text-align: right;\">  3.9</td><td style=\"text-align: right;\">5.0</td><td style=\"text-align: right;\">   600</td><td>[3.0,3.1,3.8]            </td><td style=\"text-align: right;\">               3.5</td><td style=\"text-align: right;\">     30810</td><td>Life Aquatic with Steve Zissou, The (2004)                                                </td><td>Adventure|Comedy|Fantasy                           </td></tr>\n",
              "<tr><td style=\"text-align: right;\">  3.9</td><td style=\"text-align: right;\">4.0</td><td style=\"text-align: right;\">   600</td><td>[3.9,3.1,3.8]            </td><td style=\"text-align: right;\">               3.7</td><td style=\"text-align: right;\">      6773</td><td>Triplets of Belleville, The (Les triplettes de Belleville) (2003)                         </td><td>Animation|Comedy|Fantasy                           </td></tr>\n",
              "<tr><td style=\"text-align: right;\">  3.8</td><td style=\"text-align: right;\">5.0</td><td style=\"text-align: right;\">   600</td><td>[3.0,3.9,3.8,3.1]        </td><td style=\"text-align: right;\">               4.1</td><td style=\"text-align: right;\">     31658</td><td>Howl&#x27;s Moving Castle (Hauru no ugoku shiro) (2004)                                        </td><td>Adventure|Animation|Fantasy|Romance                </td></tr>\n",
              "<tr><td style=\"text-align: right;\">  3.8</td><td style=\"text-align: right;\">2.5</td><td style=\"text-align: right;\">   600</td><td>[3.1,3.0]                </td><td style=\"text-align: right;\">               3.8</td><td style=\"text-align: right;\">      7323</td><td>Good bye, Lenin! (2003)                                                                   </td><td>Comedy|Drama                                       </td></tr>\n",
              "<tr><td style=\"text-align: right;\">  3.8</td><td style=\"text-align: right;\">3.0</td><td style=\"text-align: right;\">   600</td><td>[3.1,3.0]                </td><td style=\"text-align: right;\">               3.8</td><td style=\"text-align: right;\">      6620</td><td>American Splendor (2003)                                                                  </td><td>Comedy|Drama                                       </td></tr>\n",
              "<tr><td style=\"text-align: right;\">  3.8</td><td style=\"text-align: right;\">5.0</td><td style=\"text-align: right;\">   600</td><td>[3.0,3.1,2.4]            </td><td style=\"text-align: right;\">               4.2</td><td style=\"text-align: right;\">      7361</td><td>Eternal Sunshine of the Spotless Mind (2004)                                              </td><td>Drama|Romance|Sci-Fi                               </td></tr>\n",
              "<tr><td style=\"text-align: right;\">  3.8</td><td style=\"text-align: right;\">4.0</td><td style=\"text-align: right;\">   600</td><td>[3.1,3.0,3.8,3.1]        </td><td style=\"text-align: right;\">               3.7</td><td style=\"text-align: right;\">     46976</td><td>Stranger than Fiction (2006)                                                              </td><td>Comedy|Drama|Fantasy|Romance                       </td></tr>\n",
              "<tr><td style=\"text-align: right;\">  3.7</td><td style=\"text-align: right;\">4.0</td><td style=\"text-align: right;\">   600</td><td>[3.0,3.9,3.1,3.1]        </td><td style=\"text-align: right;\">               4.0</td><td style=\"text-align: right;\">      6377</td><td>Finding Nemo (2003)                                                                       </td><td>Adventure|Animation|Children|Comedy                </td></tr>\n",
              "<tr><td style=\"text-align: right;\">  3.7</td><td style=\"text-align: right;\">4.0</td><td style=\"text-align: right;\">   600</td><td>[3.1,3.0,3.1]            </td><td style=\"text-align: right;\">               3.9</td><td style=\"text-align: right;\">      5380</td><td>Importance of Being Earnest, The (2002)                                                   </td><td>Comedy|Drama|Romance                               </td></tr>\n",
              "<tr><td style=\"text-align: right;\">  3.7</td><td style=\"text-align: right;\">5.0</td><td style=\"text-align: right;\">   600</td><td>[3.1,3.0,3.1]            </td><td style=\"text-align: right;\">               3.9</td><td style=\"text-align: right;\">      5902</td><td>Adaptation (2002)                                                                         </td><td>Comedy|Drama|Romance                               </td></tr>\n",
              "<tr><td style=\"text-align: right;\">  3.7</td><td style=\"text-align: right;\">3.5</td><td style=\"text-align: right;\">   600</td><td>[3.1,3.0,3.1]            </td><td style=\"text-align: right;\">               3.7</td><td style=\"text-align: right;\">      8949</td><td>Sideways (2004)                                                                           </td><td>Comedy|Drama|Romance                               </td></tr>\n",
              "<tr><td style=\"text-align: right;\">  3.7</td><td style=\"text-align: right;\">4.0</td><td style=\"text-align: right;\">   600</td><td>[3.5]                    </td><td style=\"text-align: right;\">               3.6</td><td style=\"text-align: right;\">     34072</td><td>March of the Penguins (Marche de l&#x27;empereur, La) (2005)                                   </td><td>Documentary                                        </td></tr>\n",
              "<tr><td style=\"text-align: right;\">  3.7</td><td style=\"text-align: right;\">4.5</td><td style=\"text-align: right;\">   600</td><td>[3.0,3.1,3.0]            </td><td style=\"text-align: right;\">               3.9</td><td style=\"text-align: right;\">     46578</td><td>Little Miss Sunshine (2006)                                                               </td><td>Adventure|Comedy|Drama                             </td></tr>\n",
              "<tr><td style=\"text-align: right;\">  3.7</td><td style=\"text-align: right;\">4.5</td><td style=\"text-align: right;\">   600</td><td>[3.1]                    </td><td style=\"text-align: right;\">               3.5</td><td style=\"text-align: right;\">      4816</td><td>Zoolander (2001)                                                                          </td><td>Comedy                                             </td></tr>\n",
              "<tr><td style=\"text-align: right;\">  3.7</td><td style=\"text-align: right;\">4.0</td><td style=\"text-align: right;\">   600</td><td>[3.0,3.8]                </td><td style=\"text-align: right;\">               3.9</td><td style=\"text-align: right;\">      8368</td><td>Harry Potter and the Prisoner of Azkaban (2004)                                           </td><td>Adventure|Fantasy                                  </td></tr>\n",
              "<tr><td style=\"text-align: right;\">  3.6</td><td style=\"text-align: right;\">3.5</td><td style=\"text-align: right;\">   600</td><td>[3.0,3.8,3.1]            </td><td style=\"text-align: right;\">               3.8</td><td style=\"text-align: right;\">      7147</td><td>Big Fish (2003)                                                                           </td><td>Drama|Fantasy|Romance                              </td></tr>\n",
              "<tr><td style=\"text-align: right;\">  3.6</td><td style=\"text-align: right;\">3.0</td><td style=\"text-align: right;\">   600</td><td>[2.3,2.9,2.4]            </td><td style=\"text-align: right;\">               4.0</td><td style=\"text-align: right;\">      6502</td><td>28 Days Later (2002)                                                                      </td><td>Action|Horror|Sci-Fi                               </td></tr>\n",
              "<tr><td style=\"text-align: right;\">  3.6</td><td style=\"text-align: right;\">4.0</td><td style=\"text-align: right;\">   600</td><td>[3.1,3.0,3.1]            </td><td style=\"text-align: right;\">               3.6</td><td style=\"text-align: right;\">      4246</td><td>Bridget Jones&#x27;s Diary (2001)                                                              </td><td>Comedy|Drama|Romance                               </td></tr>\n",
              "<tr><td style=\"text-align: right;\">  3.6</td><td style=\"text-align: right;\">4.0</td><td style=\"text-align: right;\">   600</td><td>[3.1,3.1]                </td><td style=\"text-align: right;\">               4.2</td><td style=\"text-align: right;\">      4973</td><td>Amelie (Fabuleux destin d&#x27;Amélie Poulain, Le) (2001)                                      </td><td>Comedy|Romance                                     </td></tr>\n",
              "<tr><td style=\"text-align: right;\">  3.6</td><td style=\"text-align: right;\">3.0</td><td style=\"text-align: right;\">   600</td><td>[3.0,3.9,3.1,3.1,3.8]    </td><td style=\"text-align: right;\">               3.9</td><td style=\"text-align: right;\">      4886</td><td>Monsters, Inc. (2001)                                                                     </td><td>Adventure|Animation|Children|Comedy|Fantasy        </td></tr>\n",
              "<tr><td style=\"text-align: right;\">  3.6</td><td style=\"text-align: right;\">3.5</td><td style=\"text-align: right;\">   600</td><td>[2.3,2.4,3.0]            </td><td style=\"text-align: right;\">               4.2</td><td style=\"text-align: right;\">     58559</td><td>Dark Knight, The (2008)                                                                   </td><td>Action|Crime|Drama                                 </td></tr>\n",
              "<tr><td style=\"text-align: right;\">  3.6</td><td style=\"text-align: right;\">4.0</td><td style=\"text-align: right;\">   600</td><td>[3.1,3.0]                </td><td style=\"text-align: right;\">               3.5</td><td style=\"text-align: right;\">      4641</td><td>Ghost World (2001)                                                                        </td><td>Comedy|Drama                                       </td></tr>\n",
              "<tr><td style=\"text-align: right;\">  3.6</td><td style=\"text-align: right;\">4.5</td><td style=\"text-align: right;\">   600</td><td>[3.0,3.1]                </td><td style=\"text-align: right;\">               4.0</td><td style=\"text-align: right;\">      5878</td><td>Talk to Her (Hable con Ella) (2002)                                                       </td><td>Drama|Romance                                      </td></tr>\n",
              "<tr><td style=\"text-align: right;\">  3.5</td><td style=\"text-align: right;\">3.0</td><td style=\"text-align: right;\">   600</td><td>[3.1,3.0,3.1]            </td><td style=\"text-align: right;\">               3.6</td><td style=\"text-align: right;\">      5673</td><td>Punch-Drunk Love (2002)                                                                   </td><td>Comedy|Drama|Romance                               </td></tr>\n",
              "<tr><td style=\"text-align: right;\">  3.5</td><td style=\"text-align: right;\">3.0</td><td style=\"text-align: right;\">   600</td><td>[3.0,3.1]                </td><td style=\"text-align: right;\">               4.0</td><td style=\"text-align: right;\">      4995</td><td>Beautiful Mind, A (2001)                                                                  </td><td>Drama|Romance                                      </td></tr>\n",
              "<tr><td style=\"text-align: right;\">  3.5</td><td style=\"text-align: right;\">4.0</td><td style=\"text-align: right;\">   600</td><td>[2.3,3.0,3.0,2.4,2.5]    </td><td style=\"text-align: right;\">               3.9</td><td style=\"text-align: right;\">     48774</td><td>Children of Men (2006)                                                                    </td><td>Action|Adventure|Drama|Sci-Fi|Thriller             </td></tr>\n",
              "<tr><td style=\"text-align: right;\">  3.5</td><td style=\"text-align: right;\">4.0</td><td style=\"text-align: right;\">   600</td><td>[3.1,2.4,3.0]            </td><td style=\"text-align: right;\">               3.7</td><td style=\"text-align: right;\">      5991</td><td>Chicago (2002)                                                                            </td><td>Comedy|Crime|Drama                                 </td></tr>\n",
              "<tr><td style=\"text-align: right;\">  3.5</td><td style=\"text-align: right;\">5.0</td><td style=\"text-align: right;\">   600</td><td>[3.1]                    </td><td style=\"text-align: right;\">               3.5</td><td style=\"text-align: right;\">      8910</td><td>I Heart Huckabees (2004)                                                                  </td><td>Comedy                                             </td></tr>\n",
              "<tr><td style=\"text-align: right;\">  3.5</td><td style=\"text-align: right;\">1.0</td><td style=\"text-align: right;\">   600</td><td>[3.1,3.1]                </td><td style=\"text-align: right;\">               3.8</td><td style=\"text-align: right;\">      5135</td><td>Monsoon Wedding (2001)                                                                    </td><td>Comedy|Romance                                     </td></tr>\n",
              "<tr><td style=\"text-align: right;\">  3.4</td><td style=\"text-align: right;\">2.5</td><td style=\"text-align: right;\">   600</td><td>[3.0,3.1]                </td><td style=\"text-align: right;\">               3.2</td><td style=\"text-align: right;\">      4734</td><td>Jay and Silent Bob Strike Back (2001)                                                     </td><td>Adventure|Comedy                                   </td></tr>\n",
              "<tr><td style=\"text-align: right;\">  3.4</td><td style=\"text-align: right;\">4.0</td><td style=\"text-align: right;\">   600</td><td>[2.3,3.0,3.1,3.8]        </td><td style=\"text-align: right;\">               3.4</td><td style=\"text-align: right;\">     53125</td><td>Pirates of the Caribbean: At World&#x27;s End (2007)                                           </td><td>Action|Adventure|Comedy|Fantasy                    </td></tr>\n",
              "<tr><td style=\"text-align: right;\">  3.4</td><td style=\"text-align: right;\">3.5</td><td style=\"text-align: right;\">   600</td><td>[3.5]                    </td><td style=\"text-align: right;\">               3.8</td><td style=\"text-align: right;\">      5669</td><td>Bowling for Columbine (2002)                                                              </td><td>Documentary                                        </td></tr>\n",
              "<tr><td style=\"text-align: right;\">  3.4</td><td style=\"text-align: right;\">4.0</td><td style=\"text-align: right;\">   600</td><td>[3.1]                    </td><td style=\"text-align: right;\">               3.4</td><td style=\"text-align: right;\">     55830</td><td>Be Kind Rewind (2008)                                                                     </td><td>Comedy                                             </td></tr>\n",
              "<tr><td style=\"text-align: right;\">  3.4</td><td style=\"text-align: right;\">0.5</td><td style=\"text-align: right;\">   600</td><td>[2.3,2.4,2.5]            </td><td style=\"text-align: right;\">               3.9</td><td style=\"text-align: right;\">     44191</td><td>V for Vendetta (2006)                                                                     </td><td>Action|Sci-Fi|Thriller                             </td></tr>\n",
              "<tr><td style=\"text-align: right;\">  3.4</td><td style=\"text-align: right;\">4.5</td><td style=\"text-align: right;\">   600</td><td>[2.3,2.4,2.5]            </td><td style=\"text-align: right;\">               4.0</td><td style=\"text-align: right;\">      6874</td><td>Kill Bill: Vol. 1 (2003)                                                                  </td><td>Action|Crime|Thriller                              </td></tr>\n",
              "<tr><td style=\"text-align: right;\">  3.4</td><td style=\"text-align: right;\">3.5</td><td style=\"text-align: right;\">   600</td><td>[3.1]                    </td><td style=\"text-align: right;\">               3.8</td><td style=\"text-align: right;\">      7451</td><td>Mean Girls (2004)                                                                         </td><td>Comedy                                             </td></tr>\n",
              "<tr><td style=\"text-align: right;\">  3.4</td><td style=\"text-align: right;\">3.0</td><td style=\"text-align: right;\">   600</td><td>[3.1]                    </td><td style=\"text-align: right;\">               3.3</td><td style=\"text-align: right;\">      8376</td><td>Napoleon Dynamite (2004)                                                                  </td><td>Comedy                                             </td></tr>\n",
              "<tr><td style=\"text-align: right;\">  3.3</td><td style=\"text-align: right;\">4.5</td><td style=\"text-align: right;\">   600</td><td>[3.1]                    </td><td style=\"text-align: right;\">               3.3</td><td style=\"text-align: right;\">     48385</td><td>Borat: Cultural Learnings of America for Make Benefit Glorious Nation of Kazakhstan (2006)</td><td>Comedy                                             </td></tr>\n",
              "<tr><td style=\"text-align: right;\">  3.3</td><td style=\"text-align: right;\">3.5</td><td style=\"text-align: right;\">   600</td><td>[3.0,3.9,3.1,3.1,3.8,3.1]</td><td style=\"text-align: right;\">               3.9</td><td style=\"text-align: right;\">      4306</td><td>Shrek (2001)                                                                              </td><td>Adventure|Animation|Children|Comedy|Fantasy|Romance</td></tr>\n",
              "<tr><td style=\"text-align: right;\">  3.3</td><td style=\"text-align: right;\">3.5</td><td style=\"text-align: right;\">   600</td><td>[2.3,3.0,3.1,3.1]        </td><td style=\"text-align: right;\">               2.9</td><td style=\"text-align: right;\">      4232</td><td>Spy Kids (2001)                                                                           </td><td>Action|Adventure|Children|Comedy                   </td></tr>\n",
              "<tr><td style=\"text-align: right;\">  3.3</td><td style=\"text-align: right;\">1.0</td><td style=\"text-align: right;\">   600</td><td>[3.0,2.4]                </td><td style=\"text-align: right;\">               3.8</td><td style=\"text-align: right;\">     27611</td><td>Battlestar Galactica (2003)                                                               </td><td>Drama|Sci-Fi                                       </td></tr>\n",
              "</tbody>\n",
              "</table>"
            ]
          },
          "metadata": {}
        }
      ]
    }
  ]
}